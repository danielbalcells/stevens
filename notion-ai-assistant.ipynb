{
 "cells": [
  {
   "cell_type": "code",
   "execution_count": 219,
   "id": "9a6bba23",
   "metadata": {},
   "outputs": [],
   "source": [
    "import openai\n",
    "import notion_client\n",
    "import json\n",
    "\n",
    "with open('openai_secret_key') as r:\n",
    "    openai_secret_key = r.readline().strip()\n",
    "    openai.api_key = openai_secret_key\n",
    "\n",
    "with open('notion_secret_key') as r:\n",
    "    notion_secret_key = r.readline().strip()\n",
    "    notion = notion_client.Client(auth=notion_secret_key)"
   ]
  },
  {
   "cell_type": "markdown",
   "id": "68445e3d",
   "metadata": {},
   "source": [
    "# Entity extraction"
   ]
  },
  {
   "cell_type": "code",
   "execution_count": 304,
   "id": "72744685",
   "metadata": {},
   "outputs": [],
   "source": [
    "engine = 'text-davinci-003'\n",
    "journal_id = '66a8cd52520543df9895c373627f821d'\n",
    "organizations_id = 'ec516282ca5248c3bd52d7cede238bc6'\n",
    "people_id = '748131dafe774e4a9ad5c0c259f69aba'\n",
    "places_id = '9c8884e3303a49238e44d9aad9d7e50e'"
   ]
  },
  {
   "cell_type": "code",
   "execution_count": 47,
   "id": "3d72c3f7",
   "metadata": {},
   "outputs": [],
   "source": [
    "entries = notion.databases.query(database_id=journal_id)"
   ]
  },
  {
   "cell_type": "code",
   "execution_count": 179,
   "id": "34e7378f",
   "metadata": {},
   "outputs": [],
   "source": [
    "entry_id = 'c6affbed81284a09affcd41c8fa4915b'\n",
    "entry = notion.pages.retrieve(page_id=entry_id)"
   ]
  },
  {
   "cell_type": "code",
   "execution_count": 288,
   "id": "e057763a",
   "metadata": {},
   "outputs": [],
   "source": [
    "def get_entry_plain_text(entry_id):\n",
    "    blocks = notion.blocks.children.list(block_id=entry_id)['results']\n",
    "    plain_text = ''\n",
    "\n",
    "    for block in blocks:\n",
    "        block_type = block['type']\n",
    "        rich_text = block[block_type]['rich_text']\n",
    "        for text in rich_text:\n",
    "            plain_text += text['plain_text']\n",
    "        plain_text += '  \\n\\n'\n",
    "    return plain_text"
   ]
  },
  {
   "cell_type": "code",
   "execution_count": 382,
   "id": "cab41124",
   "metadata": {},
   "outputs": [],
   "source": [
    "def get_entity_tags(entry_plain_text, engine='text-davinci-003'):\n",
    "    extraction_prompt_template = \"\"\"\n",
    "    INSTRUCTIONS:\n",
    "    From the text below, extract the following entities:\n",
    "    Organizations: All platforms, products, companies and institutions mentioned by name (e.g. \"Google\", \"FIFA\", \"World Bank\"). Exclude broad terms such as industries (\"Record Labels\") that don't refer to specific companies. Exclude names of places (e.g. \"Switzerland\") and people (e.g. \"Bill Gates\").\n",
    "    People: All people mentioned by their full name (e.g. John Doe). Exclude people mentioned only by first name (e.g. Peter).\n",
    "    Places: All cities (e.g. Barcelona), regions (e.g. California) and countries (e.g. Italy) mentioned by name.\n",
    "    Tags: At least 20 and ideally 50 of the most relevant, unusual, surprising and salient topics, ideas and themes the author is exploring and writing about. Also include topics that are mentioned in passing, or in relatively short fragments of the text. Make the topic names short and concise (e.g. use \"Streaming Economics\" instead of \"The economics of music streaming\")\n",
    "    Capitalize each of the entities in title case.\n",
    "    Format the results as a JSON dictionary containing all of the lists described above:\n",
    "    {\n",
    "        \"organizations\": [\n",
    "            # list of organization entities goes here\n",
    "        ],\n",
    "        \"people\": [\n",
    "            # list of people entities goes here\n",
    "        ],\n",
    "        \"places\": [\n",
    "            # list of place entities goes here\n",
    "        ],\n",
    "        \"tags\": [\n",
    "            # list of tag entities goes here\n",
    "        ]\n",
    "    }\n",
    "    \n",
    "    EXAMPLE TEXT:\n",
    "    ###\n",
    "    Pedro Cano and I were talking about the electric car industry and he suggested that we rent a Tesla for our trip to LA with Alex and Enric. I’m finding it harder to hate things lately. I find it hard to sympathize with people who immediately assign malice to people or companies they know little about, instead of trying to understand what they might not know. Despite not being a huge fan of Elon Musk, I don’t feel the need to join the online polarization about him and transfer that energy to my impressions of a Tesla.\n",
    "    ###\n",
    "    \n",
    "    EXAMPLE OUTPUT:\n",
    "    ###\n",
    "    {\n",
    "        \"organizations\": [\n",
    "            \"Tesla\"\n",
    "        ],\n",
    "        \"people\": [\n",
    "            \"Pedro Cano\", \"Elon Musk\"\n",
    "        ],\n",
    "        \"places\": [\n",
    "            \"Los Angeles\"\n",
    "        ],\n",
    "        \"tags\": [\n",
    "            \"Electric Cars\", \"Empathy\", \"Hating\", \"Polarization\", \"Celebrities\", \"Online Behavior\"\n",
    "        ]\n",
    "    }\n",
    "    ###\n",
    "    \"\"\"\n",
    "    extraction_prompt = extraction_prompt_template + f\"\"\"\n",
    "    REAL TEXT:\n",
    "    ###\n",
    "    {entry_plain_text}\n",
    "    ###\n",
    "    \n",
    "    REAL OUTPUT:\n",
    "    \"\"\"\n",
    "    extraction = openai.Completion.create(\n",
    "        engine=engine,\n",
    "        prompt=extraction_prompt,\n",
    "        max_tokens=1024,\n",
    "        temperature=0.1\n",
    "    )\n",
    "    entities_text = extraction['choices'][0]['text']\n",
    "    entities = json.loads(entities_text)\n",
    "    return entities"
   ]
  },
  {
   "cell_type": "markdown",
   "id": "a6c34165",
   "metadata": {},
   "source": [
    "## Old stuff"
   ]
  },
  {
   "cell_type": "code",
   "execution_count": 278,
   "id": "daeaa8f6",
   "metadata": {
    "scrolled": true
   },
   "outputs": [],
   "source": [
    "extraction_prompt_template = \"\"\"\n",
    "From the text below, extract the following entities:\n",
    "Organizations: All platforms, products, companies and institutions mentioned by name. Exclude broad terms such as industries (\"Record Labels\") that don't refer to specific companies. Exclude names of places and people.\n",
    "People: All people mentioned by their full name (e.g. John Doe). Exclude people mentioned only by first name (e.g. Peter).\n",
    "Places: All cities (e.g. Barcelona), regions (e.g. California) and countries (e.g. Italy) mentioned by name.\n",
    "Tags: At least 20 and ideally 50 of the most relevant, unusual, surprising and salient topics, ideas and themes the author is exploring and writing about. Also include topics that are mentioned in passing, or in relatively short fragments of the text. Make the topic names short and concise (e.g. use \"Streaming Economics\" instead of \"The economics of music streaming\")\n",
    "Format the results as a JSON dictionary containing all of the lists described above:\n",
    "{\n",
    "    \"organizations\": [\n",
    "        # list of organization entities goes here\n",
    "    ],\n",
    "    \"people\": [\n",
    "        # list of people entities goes here\n",
    "    ],\n",
    "    \"places\": [\n",
    "        # list of place entities goes here\n",
    "    ],\n",
    "    \"tags\": [\n",
    "        # list of tag entities goes here\n",
    "    ]\n",
    "}\n",
    "\"\"\"\n",
    "extraction_prompt_template += f\"\"\"\n",
    "Text:###\n",
    "{plain_text}\n",
    "###\n",
    "\"\"\""
   ]
  },
  {
   "cell_type": "code",
   "execution_count": 279,
   "id": "61e40c69",
   "metadata": {},
   "outputs": [],
   "source": [
    "extraction = openai.Completion.create(\n",
    "    engine=engine,\n",
    "    prompt=extraction_prompt,\n",
    "    max_tokens=1024,\n",
    "    temperature=0.2\n",
    ")\n",
    "entities_text = extraction['choices'][0]['text']"
   ]
  },
  {
   "cell_type": "code",
   "execution_count": 286,
   "id": "58155284",
   "metadata": {},
   "outputs": [],
   "source": [
    "entities = json.loads(entities_text)"
   ]
  },
  {
   "cell_type": "code",
   "execution_count": 247,
   "id": "f8ca3f89",
   "metadata": {},
   "outputs": [],
   "source": [
    "single_list_prompt = \"\"\"\n",
    "INSTRUCTIONS:\n",
    "From the text below, make a list of all entities mentioned. \n",
    "Include all platforms, products, companies and institutions mentioned by name. \n",
    "Include all people mentioned. \n",
    "Include all places mentioned, including cities (e.g. Barcelona), regions (e.g. California) and countries (e.g. Italy) mentioned by name.\n",
    "Include all topics, ideas and themes the author is writing about. \n",
    "Include topics that are mentioned in passing, or in relatively short fragments of the text.\n",
    "Make the list long (at least 30 entries and 50 if possible) and exhaustive (include any entities regardless of how often or thoroughly they are mentioned).\n",
    "Format the results as a JSON dictionary containing a single list of all entities extracted as per above:\n",
    "{\n",
    "    \"entities\": [\n",
    "        # list of all extracted entities goes here\n",
    "    ]\n",
    "}\n",
    "\"\"\"\n",
    "single_list_prompt += f\"\"\"\n",
    "TEXT:###\n",
    "{plain_text}\n",
    "###\n",
    "\"\"\""
   ]
  },
  {
   "cell_type": "code",
   "execution_count": 248,
   "id": "da35e78c",
   "metadata": {},
   "outputs": [],
   "source": [
    "single_list_results = openai.Completion.create(\n",
    "    engine=engine,\n",
    "    prompt=single_list_prompt,\n",
    "    max_tokens=1500,\n",
    "    temperature=0.9\n",
    ")\n",
    "single_list = single_list_results['choices'][0]['text']"
   ]
  },
  {
   "cell_type": "code",
   "execution_count": 249,
   "id": "7bc06e5e",
   "metadata": {
    "scrolled": true
   },
   "outputs": [
    {
     "name": "stdout",
     "output_type": "stream",
     "text": [
      "{\n",
      "    \"entities\": [\n",
      "        \"Dominican barber\",\n",
      "        \"Nic\",\n",
      "        \"Spanish\",\n",
      "        \"American\",\n",
      "        \"Canarian\",\n",
      "        \"Catalan\",\n",
      "        \"Spain\",\n",
      "        \"Catalonia\",\n",
      "        \"United States\",\n",
      "        \"Canary Islands\",\n",
      "        \"Business\",\n",
      "        \"Philosophy of Life\",\n",
      "        \"Brian Schmitt\",\n",
      "        \"Fort Greene\",\n",
      "        \"Prospect Park\",\n",
      "        \"Design\",\n",
      "        \"Apple\",\n",
      "        \"Product Strategy and Mangement\",\n",
      "        \"BMAT\",\n",
      "        \"Carina\",\n",
      "        \"Songtradr\",\n",
      "        \"Design Company\",\n",
      "        \"Live Experience of Music\",\n",
      "        \"Underdogs Function\",\n",
      "        \"Asymmetric Bets\",\n",
      "        \"Haircut\",\n",
      "        \"Racial Stereotyping\",\n",
      "        \"Mexicans\",\n",
      "        \"LA\",\n",
      "        \"Black People\",\n",
      "        \"Minz\",\n",
      "        \"Korean People\",\n",
      "        \"Asian People\",\n",
      "        \"Julie\",\n",
      "        \"Japanese Mom\",\n",
      "        \"Racially Homogeneous Cultures\",\n",
      "        \"Island Nations\",\n",
      "        \"United Kingdom\",\n",
      "        \"Ireland\",\n",
      "        \"Japan\",\n",
      "        \"Mixed Cultures\",\n",
      "        \"Mixed Races\",\n",
      "        \"The Philippines\",\n",
      "        \"Scandinavia\",\n",
      "        \"South Korea\",\n",
      "        \"K-Pop\",\n",
      "        \"Fandom\", \n",
      "        \"Tumblr\", \n",
      "        \"Emo Music\",\n",
      "        \"World of Warcraft\", \n",
      "        \"Metal Music\", \n",
      "        \"Rich Metalheads\", \n",
      "        \"Critically Acclaimed Productions\", \n",
      "        \"Beauty Culture\", \n",
      "        \"Parasite\", \n",
      "        \"Middle Class Upbringing\", \n",
      "        \"Money\", \n",
      "        \"JJ\", \n",
      "        \"Zal\", \n",
      "        \"Old Man Yells at Cloud\",\n",
      "        \"Climate Change\", \n",
      "        \"Social Justice\", \n",
      "        \"Atheistic Liberals\", \n",
      "        \"Tribe\", \n",
      "        \"Values\", \n",
      "        \"Human History\", \n",
      "        \"Journaling\", \n",
      "        \"Mood Swings\", \n",
      "        \"Cycles\", \n",
      "        \"Stories\", \n",
      "        \"Americans\"\n",
      "    ]\n",
      "}\n"
     ]
    }
   ],
   "source": [
    "print(single_list)"
   ]
  },
  {
   "cell_type": "code",
   "execution_count": 281,
   "id": "fd05701c",
   "metadata": {},
   "outputs": [],
   "source": [
    "filtering_prompt = \"\"\"\n",
    "Below are four lists of entities: People, Organizations, Places and Tags.\n",
    "Filter each of the lists using the following instructions:\n",
    "- People: keep only entries in the input list that are people referred to exclusively by their full name (e.g. 'John Doe'). Exclude from this list people referred to by their first name only (e.g. 'John').\n",
    "- Organizations: keep only entries in the input list that refer to specific platforms (e.g. 'Twitter'), companies (e.g. 'Apple'), and institutions (e.g. 'NATO'). Do not include names of industries (e.g. 'Music Publishing') or specific products (e.g. 'iPhone').\n",
    "- Places: keep only entries in the input list that refer to specific neighborhoods (e.g. 'Eixample'), cities (e.g. 'Barcelona'), regions (e.g. 'Catalonia'), countries (e.g. 'Spain'), continents (e.g. 'Asia') or natural geographical landmarks (e.g. 'The Himalayas').\n",
    "- Tags: keep only entries in the input list that aren't already included in the lists above.\n",
    "Capitalize all entries in title case.\n",
    "Format the results as a JSON dictionary containing all of the lists described above:\n",
    "{\n",
    "    \"organizations\": [\n",
    "        # list of organization entities goes here\n",
    "    ],\n",
    "    \"people\": [\n",
    "        # list of people entities goes here\n",
    "    ],\n",
    "    \"places\": [\n",
    "        # list of place entities goes here\n",
    "    ],\n",
    "    \"tags\": [\n",
    "        # list of tag entities goes here\n",
    "    ]\n",
    "}\n",
    "\"\"\"\n",
    "\n",
    "filtering_prompt += f\"\"\"\n",
    "List:###\n",
    "{entities_text}\n",
    "###\n",
    "\"\"\""
   ]
  },
  {
   "cell_type": "code",
   "execution_count": 282,
   "id": "ee318071",
   "metadata": {},
   "outputs": [],
   "source": [
    "filtering = openai.Completion.create(\n",
    "    engine=engine,\n",
    "    prompt=filtering_prompt,\n",
    "    max_tokens=1024,\n",
    "    temperature=0.3\n",
    ")\n",
    "filtered_text = filtering['choices'][0]['text']"
   ]
  },
  {
   "cell_type": "code",
   "execution_count": 284,
   "id": "ceef5f99",
   "metadata": {
    "scrolled": true
   },
   "outputs": [
    {
     "name": "stdout",
     "output_type": "stream",
     "text": [
      "\n",
      "Filtered List:\n",
      "\n",
      "{\n",
      "    \"organizations\": [\n",
      "        \"Apple\",\n",
      "        \"BMAT\",\n",
      "        \"Songtradr\"\n",
      "    ],\n",
      "    \"people\": [\n",
      "        \"Brian Schmitt\",\n",
      "        \"Carina\",\n",
      "        \"Minz\",\n",
      "        \"Julie\",\n",
      "        \"Mel\",\n",
      "        \"JJ\",\n",
      "        \"Zal\"\n",
      "    ],\n",
      "    \"places\": [\n",
      "        \"Dominican Republic\",\n",
      "        \"Spain\",\n",
      "        \"Catalonia\",\n",
      "        \"United States\",\n",
      "        \"Canary Islands\",\n",
      "        \"The Philippines\",\n",
      "        \"Scandinavia\",\n",
      "        \"South Korea\",\n",
      "        \"Japan\"\n",
      "    ],\n",
      "    \"tags\": [\n",
      "        \"Cultures of Me\",\n",
      "        \"Underdog Functions\",\n",
      "        \"Rabbit Hole\",\n",
      "        \"Stereotypes\",\n",
      "        \"Beauty\",\n",
      "        \"Island Nations\",\n",
      "        \"K-Pop\",\n",
      "        \"Fandom\",\n",
      "        \"World of Warcraft\",\n",
      "        \"Metal Music\",\n",
      "        \"Tumblr\",\n",
      "        \"Emo Music\",\n",
      "        \"Middle-Class Upbringing\",\n",
      "        \"Financial Struggle\",\n",
      "        \"Psychological Struggle\",\n",
      "        \"Social Justice\",\n",
      "        \"Atheistic Liberals\",\n",
      "        \"Journaling\",\n",
      "        \"Narratives\",\n",
      "        \"Mood Swings\",\n",
      "        \"Cycles\",\n",
      "        \"Linear Worldview\"\n",
      "    ]\n",
      "}\n"
     ]
    }
   ],
   "source": [
    "print(filtered_text)"
   ]
  },
  {
   "cell_type": "markdown",
   "id": "6976f37f",
   "metadata": {},
   "source": [
    "# Entity retrieval/creation and relation creation"
   ]
  },
  {
   "cell_type": "code",
   "execution_count": 376,
   "id": "cd045900",
   "metadata": {
    "scrolled": true
   },
   "outputs": [],
   "source": [
    "entry_id = 'cdd12f54517c453bb25538e5fb0d2152'\n",
    "entry = notion.pages.retrieve(page_id=entry_id)\n",
    "entry_plain_text = get_entry_plain_text(entry_id)\n",
    "#print(entry_plain_text)"
   ]
  },
  {
   "cell_type": "code",
   "execution_count": 383,
   "id": "54cc5559",
   "metadata": {},
   "outputs": [
    {
     "data": {
      "text/plain": [
       "{'organizations': ['BMAT', 'Songtradr', 'Apple'],\n",
       " 'people': ['Nic', 'Brian Schmitt', 'Carina', 'Minz', 'Julie', 'Mel'],\n",
       " 'places': ['Fort Greene',\n",
       "  'Prospect Park',\n",
       "  'Los Angeles',\n",
       "  'The Philippines',\n",
       "  'Scandinavia',\n",
       "  'South Korea',\n",
       "  'United Kingdom',\n",
       "  'Ireland',\n",
       "  'Japan'],\n",
       " 'tags': ['Racial Stereotyping',\n",
       "  'Racism',\n",
       "  'Genetic Diversity',\n",
       "  'Beauty Culture',\n",
       "  'Fandom',\n",
       "  'Escapism',\n",
       "  'Middle-Class Upbringing',\n",
       "  'Financial Struggle',\n",
       "  'Psychological Struggle',\n",
       "  'Social Justice',\n",
       "  'Atheistic Liberals',\n",
       "  'Mood Swings',\n",
       "  'American Worldview']}"
      ]
     },
     "execution_count": 383,
     "metadata": {},
     "output_type": "execute_result"
    }
   ],
   "source": [
    "entity_tags = get_entity_tags(entry_plain_text)\n",
    "entity_tags"
   ]
  },
  {
   "cell_type": "code",
   "execution_count": 367,
   "id": "65107023",
   "metadata": {},
   "outputs": [],
   "source": [
    "def get_all_pages(database_id):\n",
    "    pages = []\n",
    "    response = notion.databases.query(database_id=database_id)\n",
    "    pages += response['results']\n",
    "    while response['has_more']:\n",
    "        response = notion.databases.query(database_id, start_cursor=response['next_cursor'])\n",
    "        pages += response['results']\n",
    "    return pages\n",
    "\n",
    "\n",
    "def get_pages_dict(raw_pages):\n",
    "    # Get name of title property\n",
    "    for p_name, p_values in raw_pages[0]['properties'].items():\n",
    "        if p_values['type'] == 'title':\n",
    "            title_property = p_name\n",
    "            break\n",
    "\n",
    "    # Parse all pages into a dict {'page_title': page}\n",
    "    pages = {}\n",
    "    for page in raw_pages:\n",
    "        try:\n",
    "            name = page['properties'][title_property]['title'][0]['plain_text']\n",
    "        except:\n",
    "            pass\n",
    "        pages[name] = page\n",
    "    return pages"
   ]
  },
  {
   "cell_type": "code",
   "execution_count": 394,
   "id": "4c9163e5",
   "metadata": {},
   "outputs": [],
   "source": [
    "raw_pages = get_all_pages(places_id)\n",
    "pages_dict = get_pages_dict(raw_pages)"
   ]
  },
  {
   "cell_type": "code",
   "execution_count": 358,
   "id": "bb1cb973",
   "metadata": {},
   "outputs": [],
   "source": [
    "# take original entry\n",
    "# for each autotagged entity type\n",
    "#  get all existing pages of that type\n",
    "#  for each autotagged entity of that type\n",
    "#   if it doesn't have a page, create it\n",
    "#   add a relation to the page in the original entry"
   ]
  },
  {
   "cell_type": "code",
   "execution_count": 409,
   "id": "c53e4938",
   "metadata": {},
   "outputs": [],
   "source": [
    "relation_ids = []\n",
    "\n",
    "for tag in entity_tags['places']:\n",
    "    page = pages_dict.get(tag)\n",
    "    if page:\n",
    "        relation_ids.append({'id': page['id']})\n",
    "    "
   ]
  },
  {
   "cell_type": "code",
   "execution_count": 415,
   "id": "fc2cfd74",
   "metadata": {
    "scrolled": true
   },
   "outputs": [],
   "source": [
    "prop = entry['properties']['Places']\n",
    "prop['relation'] = prop['relation'] + relation_ids\n",
    "property_updates = {'Places': prop}"
   ]
  },
  {
   "cell_type": "code",
   "execution_count": 418,
   "id": "5045f491",
   "metadata": {},
   "outputs": [
    {
     "data": {
      "text/plain": [
       "{'object': 'page',\n",
       " 'id': 'cdd12f54-517c-453b-b255-38e5fb0d2152',\n",
       " 'created_time': '2022-12-30T17:30:00.000Z',\n",
       " 'last_edited_time': '2022-12-30T18:03:00.000Z',\n",
       " 'created_by': {'object': 'user',\n",
       "  'id': 'fef31225-60a6-48ca-9c0a-78051140f2ff'},\n",
       " 'last_edited_by': {'object': 'user',\n",
       "  'id': '42bea9d8-261e-416e-a0cd-8e90482f044d'},\n",
       " 'cover': None,\n",
       " 'icon': {'type': 'external',\n",
       "  'external': {'url': 'https://www.notion.so/icons/book-closed_gray.svg'}},\n",
       " 'parent': {'type': 'database_id',\n",
       "  'database_id': '66a8cd52-5205-43df-9895-c373627f821d'},\n",
       " 'archived': False,\n",
       " 'properties': {'Dots': {'id': '%3EBvH',\n",
       "   'type': 'relation',\n",
       "   'relation': [{'id': 'cc8e0758-05f1-43f2-ad04-0b2fed565e69'},\n",
       "    {'id': '9c1db92a-b364-4534-875f-8a985a39ef91'}],\n",
       "   'has_more': False},\n",
       "  'Media': {'id': 'Ajzp',\n",
       "   'type': 'relation',\n",
       "   'relation': [],\n",
       "   'has_more': False},\n",
       "  'Date': {'id': 'SJ%3AQ',\n",
       "   'type': 'date',\n",
       "   'date': {'start': '2022-08-20', 'end': None, 'time_zone': None}},\n",
       "  'Places': {'id': 'VGoF',\n",
       "   'type': 'relation',\n",
       "   'relation': [{'id': '792abf97-f88d-4c9d-a3f3-60eb4420339b'},\n",
       "    {'id': '514aa001-a67b-48a8-ab43-9be17d415245'},\n",
       "    {'id': 'c017eac5-9265-44f1-8ac0-1d744f39146d'},\n",
       "    {'id': 'd395efbb-947b-4ebb-9943-2e70bc9c2158'},\n",
       "    {'id': '22c8f5cd-876e-4266-9ec7-9d4c7c9481a2'},\n",
       "    {'id': 'c189aced-be2d-4967-aa2b-7d1e44186c3c'},\n",
       "    {'id': '810aec71-49e7-45fb-93ef-5410911a0ed3'},\n",
       "    {'id': 'f28d8f05-f7c0-4218-a8cb-40c3b0d4aa70'},\n",
       "    {'id': '68d44bd0-3d53-42b3-98d7-03f2ead4dda3'},\n",
       "    {'id': '45fa6213-3ba7-45d0-bed6-5cecbf18e268'},\n",
       "    {'id': '589f3239-50c1-456f-a1c4-e6ae8b4f43f2'},\n",
       "    {'id': '41d006f8-9c93-4b60-9965-64486ff09efd'}],\n",
       "   'has_more': False},\n",
       "  'Tags': {'id': '%5D%40%3F%7D',\n",
       "   'type': 'relation',\n",
       "   'relation': [{'id': 'a3bc43a7-10a7-4e62-82af-03f0865fd03a'},\n",
       "    {'id': '7de872d2-0fef-494d-bec7-3f61421ee8b5'},\n",
       "    {'id': 'b13d70fa-afab-4e3b-b9cb-c8f793b8bea8'},\n",
       "    {'id': 'c52f02df-5de7-4099-96cd-25f7602defca'},\n",
       "    {'id': '072651b0-2d4e-40e4-9407-7ca6f131667f'},\n",
       "    {'id': '7545135b-0fdf-4d3e-ab96-a94db3c604f5'},\n",
       "    {'id': '29adb366-249e-40e9-a444-64bf63af4796'},\n",
       "    {'id': '513dc1a3-0063-47fd-b08f-fe6bc98c5bd6'},\n",
       "    {'id': 'c483a4a5-c442-4e29-b281-28f6cf2dcad7'}],\n",
       "   'has_more': False},\n",
       "  'People': {'id': 'bgYk',\n",
       "   'type': 'relation',\n",
       "   'relation': [{'id': '16b09804-367e-4b8f-82f6-9cf49e88b71f'}],\n",
       "   'has_more': False},\n",
       "  'Organizations': {'id': 'onrg',\n",
       "   'type': 'relation',\n",
       "   'relation': [],\n",
       "   'has_more': False},\n",
       "  'Lab Topics': {'id': '%7DTys',\n",
       "   'type': 'relation',\n",
       "   'relation': [],\n",
       "   'has_more': False},\n",
       "  'Name': {'id': 'title',\n",
       "   'type': 'title',\n",
       "   'title': [{'type': 'text',\n",
       "     'text': {'content': 'August 20th 2022 (no inline tags)', 'link': None},\n",
       "     'annotations': {'bold': False,\n",
       "      'italic': False,\n",
       "      'strikethrough': False,\n",
       "      'underline': False,\n",
       "      'code': False,\n",
       "      'color': 'default'},\n",
       "     'plain_text': 'August 20th 2022 (no inline tags)',\n",
       "     'href': None}]}},\n",
       " 'url': 'https://www.notion.so/August-20th-2022-no-inline-tags-cdd12f54517c453bb25538e5fb0d2152'}"
      ]
     },
     "execution_count": 418,
     "metadata": {},
     "output_type": "execute_result"
    }
   ],
   "source": [
    "notion.pages.update(page_id=entry_id, properties=property_updates)"
   ]
  },
  {
   "cell_type": "code",
   "execution_count": 416,
   "id": "6bcf2406",
   "metadata": {},
   "outputs": [
    {
     "data": {
      "text/plain": [
       "{'Places': {'id': 'VGoF',\n",
       "  'type': 'relation',\n",
       "  'relation': [{'id': '792abf97-f88d-4c9d-a3f3-60eb4420339b'},\n",
       "   {'id': '514aa001-a67b-48a8-ab43-9be17d415245'},\n",
       "   {'id': 'c017eac5-9265-44f1-8ac0-1d744f39146d'},\n",
       "   {'id': 'd395efbb-947b-4ebb-9943-2e70bc9c2158'},\n",
       "   {'id': '22c8f5cd-876e-4266-9ec7-9d4c7c9481a2'},\n",
       "   {'id': 'c189aced-be2d-4967-aa2b-7d1e44186c3c'},\n",
       "   {'id': '810aec71-49e7-45fb-93ef-5410911a0ed3'},\n",
       "   {'id': 'f28d8f05-f7c0-4218-a8cb-40c3b0d4aa70'},\n",
       "   {'id': '68d44bd0-3d53-42b3-98d7-03f2ead4dda3'},\n",
       "   {'id': '45fa6213-3ba7-45d0-bed6-5cecbf18e268'},\n",
       "   {'id': '589f3239-50c1-456f-a1c4-e6ae8b4f43f2'},\n",
       "   {'id': '41d006f8-9c93-4b60-9965-64486ff09efd'},\n",
       "   {'id': 'c189aced-be2d-4967-aa2b-7d1e44186c3c'},\n",
       "   {'id': '810aec71-49e7-45fb-93ef-5410911a0ed3'},\n",
       "   {'id': 'f28d8f05-f7c0-4218-a8cb-40c3b0d4aa70'},\n",
       "   {'id': '68d44bd0-3d53-42b3-98d7-03f2ead4dda3'},\n",
       "   {'id': '45fa6213-3ba7-45d0-bed6-5cecbf18e268'},\n",
       "   {'id': '589f3239-50c1-456f-a1c4-e6ae8b4f43f2'},\n",
       "   {'id': '41d006f8-9c93-4b60-9965-64486ff09efd'}],\n",
       "  'has_more': False}}"
      ]
     },
     "execution_count": 416,
     "metadata": {},
     "output_type": "execute_result"
    }
   ],
   "source": [
    "entry_id"
   ]
  },
  {
   "cell_type": "code",
   "execution_count": 417,
   "id": "ff90ce27",
   "metadata": {},
   "outputs": [
    {
     "data": {
      "text/plain": [
       "'cdd12f54517c453bb25538e5fb0d2152'"
      ]
     },
     "execution_count": 417,
     "metadata": {},
     "output_type": "execute_result"
    }
   ],
   "source": [
    "entry_id.replace('-','')"
   ]
  },
  {
   "cell_type": "code",
   "execution_count": 355,
   "id": "82a1c000",
   "metadata": {},
   "outputs": [],
   "source": []
  },
  {
   "cell_type": "code",
   "execution_count": 354,
   "id": "8295ea7e",
   "metadata": {},
   "outputs": [
    {
     "data": {
      "text/plain": [
       "243"
      ]
     },
     "execution_count": 354,
     "metadata": {},
     "output_type": "execute_result"
    }
   ],
   "source": [
    "len(results)"
   ]
  },
  {
   "cell_type": "code",
   "execution_count": null,
   "id": "7f312a4f",
   "metadata": {},
   "outputs": [],
   "source": []
  }
 ],
 "metadata": {
  "kernelspec": {
   "display_name": "Python 3 (ipykernel)",
   "language": "python",
   "name": "python3"
  },
  "language_info": {
   "codemirror_mode": {
    "name": "ipython",
    "version": 3
   },
   "file_extension": ".py",
   "mimetype": "text/x-python",
   "name": "python",
   "nbconvert_exporter": "python",
   "pygments_lexer": "ipython3",
   "version": "3.7.4"
  }
 },
 "nbformat": 4,
 "nbformat_minor": 5
}
