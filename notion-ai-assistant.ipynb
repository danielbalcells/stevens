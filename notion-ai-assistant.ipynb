{
 "cells": [
  {
   "cell_type": "code",
   "execution_count": 23,
   "id": "d0a27f11",
   "metadata": {},
   "outputs": [],
   "source": [
    "import openai\n",
    "import notion_client\n",
    "import json\n",
    "\n",
    "with open('openai_secret_key') as r:\n",
    "    openai_secret_key = r.readline().strip()\n",
    "    openai.api_key = openai_secret_key\n",
    "\n",
    "with open('notion_secret_key') as r:\n",
    "    notion_secret_key = r.readline().strip()\n",
    "    notion = notion_client.Client(auth=notion_secret_key)"
   ]
  },
  {
   "cell_type": "code",
   "execution_count": 165,
   "id": "5fd200d1",
   "metadata": {},
   "outputs": [],
   "source": [
    "engine = 'text-davinci-003'\n",
    "journal_id = '66a8cd52520543df9895c373627f821d'"
   ]
  },
  {
   "cell_type": "code",
   "execution_count": 47,
   "id": "0d77834b",
   "metadata": {},
   "outputs": [],
   "source": [
    "entries = notion.databases.query(database_id=journal_id)"
   ]
  },
  {
   "cell_type": "code",
   "execution_count": 179,
   "id": "8d5ce596",
   "metadata": {},
   "outputs": [],
   "source": [
    "entry_id = 'c6affbed81284a09affcd41c8fa4915b'\n",
    "entry = notion.pages.retrieve(page_id=entry_id)"
   ]
  },
  {
   "cell_type": "code",
   "execution_count": 180,
   "id": "e7e2fce4",
   "metadata": {},
   "outputs": [],
   "source": [
    "blocks = notion.blocks.children.list(block_id=entry_id)['results']\n",
    "plain_text = ''\n",
    "\n",
    "for block in blocks:\n",
    "    block_type = block['type']\n",
    "    rich_text = block[block_type]['rich_text']\n",
    "    for text in rich_text:\n",
    "        plain_text += text['plain_text']\n",
    "    plain_text += '  \\n\\n'"
   ]
  },
  {
   "cell_type": "code",
   "execution_count": 190,
   "id": "53a78f9b",
   "metadata": {
    "scrolled": true
   },
   "outputs": [],
   "source": [
    "extraction_prompt = f\"\"\"\n",
    "Extract the following entities in the following format:\n",
    "Organizations: <List of all platforms, products, companies and institutions mentioned by name. Exclude broad terms such as industries (\"Record Labels\") that don't refer to specific companies.>\n",
    "People: <List of all people mentioned by name>\n",
    "Places: <List of all places mentioned by name>\n",
    "Tags: <List of all topics the author is writing about>\n",
    "Make the lists long and exhaustive.\n",
    "\n",
    "Text:###\n",
    "{plain_text}\n",
    "###\n",
    "\"\"\""
   ]
  },
  {
   "cell_type": "code",
   "execution_count": 191,
   "id": "7239991c",
   "metadata": {},
   "outputs": [],
   "source": [
    "extraction = openai.Completion.create(\n",
    "    engine=engine,\n",
    "    prompt=extraction_prompt,\n",
    "    max_tokens=1024,\n",
    "    temperature=0.4\n",
    ")\n",
    "entities_text = extraction['choices'][0]['text']"
   ]
  },
  {
   "cell_type": "code",
   "execution_count": 192,
   "id": "e5309bcf",
   "metadata": {},
   "outputs": [
    {
     "name": "stdout",
     "output_type": "stream",
     "text": [
      "Organizations: Songtradr, BMAT, Apple\n",
      "People: Nic, Brian Schmitt, Carina, Minz, Julie, Mel, JJ, Zal\n",
      "Places: Fort Greene, Prospect Park, Dominican Republic, United Kingdom, Ireland, Japan, South Korea, The Philippines, Scandinavia, South Korea\n",
      "Tags: Cultures, Racial Stereotyping, Racial Minorities, Racism, Island Nations, Stereotypes, Beauty, Fandom, Escapism, Social Class, Parenting, Social Justice, Mood Swings\n"
     ]
    }
   ],
   "source": [
    "print(entities_text)"
   ]
  },
  {
   "cell_type": "code",
   "execution_count": 132,
   "id": "355142a3",
   "metadata": {},
   "outputs": [],
   "source": [
    "filtering_prompt = f\"\"\"\n",
    "What follows is a series of lists:\n",
    "\n",
    "{entities_text}\n",
    "\n",
    "Remove any entries from the Organizations list so that it only contains specific companies and organizations. For example, if it contains \"Universal Music\" and \"Record Labels\", remove \"Record Labels\".\n",
    "Filter the People list so that it only contains names of people (full names). For example, remove entries like \"Friends\" that refer to broad categories of people.\n",
    "Remove from the Places list any entries that are not specific places.\n",
    "Remove any entries that look like duplicates (e.g. New York, New York City)\n",
    "Remove leading or trailing whitespace from all entries.\n",
    "Capitalize all entries in title case.\n",
    "If any of the topics present in the Tags list is present in any of the other lists, remove it from the Tags list.\n",
    "Format the response as valid JSON.\n",
    "\"\"\""
   ]
  },
  {
   "cell_type": "code",
   "execution_count": 184,
   "id": "61f0f051",
   "metadata": {},
   "outputs": [],
   "source": [
    "filtering = openai.Completion.create(\n",
    "    engine=engine,\n",
    "    prompt=filtering_prompt,\n",
    "    max_tokens=1024,\n",
    "    temperature=0.3\n",
    ")\n",
    "filtered_text = filtering['choices'][0]['text']"
   ]
  },
  {
   "cell_type": "code",
   "execution_count": 134,
   "id": "8b36d6b4",
   "metadata": {},
   "outputs": [
    {
     "name": "stdout",
     "output_type": "stream",
     "text": [
      "\n",
      "[\n",
      "  {\n",
      "    \"organizations\": [\n",
      "      \"Twitter\",\n",
      "      \"Airlines\",\n",
      "      \"Substack\",\n",
      "      \"New York City\",\n",
      "      \"Adam Tooze\",\n",
      "      \"The Atlantic\"\n",
      "    ],\n",
      "    \"people\": [\n",
      "      \"Millenials\",\n",
      "      \"Adam Tooze\"\n",
      "    ],\n",
      "    \"places\": [\n",
      "      \"New York City\",\n",
      "      \"Africa\",\n",
      "      \"United States\"\n",
      "    ],\n",
      "    \"tags\": [\n",
      "      \"social justice\",\n",
      "      \"inequality\",\n",
      "      \"religion\",\n",
      "      \"community\",\n",
      "      \"travel\",\n",
      "      \"family\",\n",
      "      \"moving\"\n",
      "    ]\n",
      "  }\n",
      "]\n"
     ]
    }
   ],
   "source": [
    "print(filtered_text)"
   ]
  },
  {
   "cell_type": "code",
   "execution_count": null,
   "id": "00e73dc6",
   "metadata": {},
   "outputs": [],
   "source": []
  }
 ],
 "metadata": {
  "kernelspec": {
   "display_name": "Python 3 (ipykernel)",
   "language": "python",
   "name": "python3"
  },
  "language_info": {
   "codemirror_mode": {
    "name": "ipython",
    "version": 3
   },
   "file_extension": ".py",
   "mimetype": "text/x-python",
   "name": "python",
   "nbconvert_exporter": "python",
   "pygments_lexer": "ipython3",
   "version": "3.7.4"
  }
 },
 "nbformat": 4,
 "nbformat_minor": 5
}
